{
 "cells": [
  {
   "cell_type": "code",
   "execution_count": 1,
   "metadata": {},
   "outputs": [],
   "source": [
    "import math\n",
    "import numpy as np\n",
    "import matplotlib.pyplot as plt\n",
    "import scipy\n",
    "from decimal import *\n",
    "from mpmath import *"
   ]
  },
  {
   "cell_type": "markdown",
   "metadata": {},
   "source": [
    "If r is closer to the center than to $d_e$, 'A' will always win by staying in the center.  \n",
    "If r is closer to $d_e$ than to the center, 'A' will always lose by staying in the center, so it will choose a position at a distance $d_a(r)$ from the center at a random direction.\n",
    "\n",
    "$$\n",
    "d_a =\n",
    "\\begin{cases}\n",
    "  0 &\\quad\\text{if r}\\le{\\frac{d_e}{2}}\\\\\n",
    "  d_a(r) &\\quad\\text{if r > }\\frac{d_e}{2}\\\\\n",
    "\\end{cases}\n",
    "$$"
   ]
  },
  {
   "cell_type": "markdown",
   "metadata": {},
   "source": [
    "What will be the probability that $a$ wins given $d_a$, $d_e$, and $r$?\n",
    "We start by drawing a line from the center to the edge of the unit circle on the direction of the flag, and then mark the point where the flag is ($r$) and where $e$ is ($d_e$). If we draw a circle centered on the flag with radius $(r - d_e)$ we can see that all points outside that circle are farther from the flag than $e$ is, and all points inside that circle are closer to the flag, which is where $a$ should aim to be.\n",
    "![When r < d_e](img1.png \"When r < d_e\")\n"
   ]
  },
  {
   "cell_type": "markdown",
   "metadata": {},
   "source": [
    "$a$ doesn't know the angle of the flag, so it will choose its distance $d_a$ and then a random angle. The probability of winning will be angle of the arc that falls inside that cricle with radius $(r - d_e)$, divided by $2\\pi$. Using the law of cosines we can get an expression for the cosine of that angle in terms of $d_a$, $d_e$, and $r$.\n",
    "\n",
    "$$\n",
    "P_{a\\_win} = \n",
    "\\begin{cases}\n",
    "  1 &\\quad\\text{if } 2r + d_a - d_e \\le 0\\\\\n",
    "  \\frac{1}{\\pi}\\text{arccos}\\left( \\frac{d_a^2 + r^2 - (d_e - r)^2}{2 d_a r} \\right) &\\quad\\text{otherwise}\\\\\n",
    "\\end{cases}\n",
    "$$"
   ]
  },
  {
   "cell_type": "markdown",
   "metadata": {},
   "source": [
    "But what if $r > d_e$? Well then the figure is a bit different but the formula is the same.\n",
    "![When r > d_e](img2.png \"When r > d_e\")\n",
    "\n",
    "The opposite side of the triangle is now $r - d_e$ instead of $d_e - r$"
   ]
  },
  {
   "cell_type": "markdown",
   "metadata": {},
   "source": [
    "### Optimal $d_a$\n",
    "\n",
    "Cool, so now we have an expression for the probability that $a$ wins as a function of $d_a$, which we can maximize by taking the derivative and setting it equal to zero.\n",
    "\n",
    "$$\n",
    "\\text{Optimal }d_a = \\bar{d_a}(r) =\n",
    "\\begin{cases}\n",
    "  \\text{any in } [0, d_e-2r] &\\quad\\text{if } 2r - d_e \\le 0\\\\\n",
    "  d_a \\text{ which makes } \\frac{\\partial}{\\partial d_a}P_{a\\_win} = 0 &\\quad\\text{otherwise}\\\\\n",
    "\\end{cases}\n",
    "$$\n",
    "\n",
    "\n",
    "$$\n",
    "\\begin{align}\n",
    "    \\frac{\\partial}{\\partial d_a}P_{a\\_win} &= 0 \\\\\n",
    "    \\frac{\\partial}{\\partial d_a} \\frac{1}{\\pi}\\text{arccos}\\left( \\frac{d_a^2 + r^2 - (d_e - r)^2}{2 d_a r} \\right) &= 0 \\\\\n",
    "    \\frac{\\partial}{\\partial d_a} \\left( \\frac{d_a^2 + r^2 - (d_e - r)^2}{2 d_a r} \\right) &= 0\\\\\n",
    "    \\frac{\\partial}{\\partial d_a} \\left( d_a^2 + r^2 - (d_e - r)^2 \\right) {2 d_a r} - \\left( d_a^2 + r^2 - (d_e - r)^2 \\right) \\frac{\\partial}{\\partial d_a}{2 d_a r} &= 0\\\\\n",
    "    \\left( 2d_a \\right) {2 d_a r} - \\left( d_a^2 + r^2 - (d_e - r)^2 \\right) {2 r} &= 0\\\\\n",
    "    {2 d_a^2} - \\left( d_a^2 + r^2 - (d_e - r)^2 \\right) &= 0\\\\\n",
    "    {d_a^2} - r^2 + (d_e^2 - 2 d_e r + r^2) &= 0\\\\\n",
    "    {d_a^2} &= 2 d_e r - d_e^2\\\\\n",
    "    d_a &= \\sqrt{2 d_e r - d_e^2}\\\\\n",
    "\\end{align}\n",
    "$$\n",
    "\n",
    "$$\n",
    "\\text{Optimal }d_a = \\bar{d_a}(r) =\n",
    "\\begin{cases}\n",
    "  \\text{any in } [0, d_e-2r] &\\quad\\text{if } 2r - d_e \\le 0\\\\\n",
    "  \\sqrt{2 d_e r - d_e^2} &\\quad\\text{otherwise}\\\\\n",
    "\\end{cases}\n",
    "$$"
   ]
  },
  {
   "cell_type": "markdown",
   "metadata": {},
   "source": [
    "PS: We could have gotten the same answer without taking the derivative if we thought about this geometrically. We're looking to maximize the angle of an arc that intersects with a circle, surely if we choose a point tangent to the circle we'll end up maximizing it. The line that is tangent to the circle makes a 90 degrees angle with the radius:\n",
    "![tangent to the circle](img3.png \"Tangent to the circle\")"
   ]
  },
  {
   "cell_type": "markdown",
   "metadata": {},
   "source": [
    "## $P_{a\\_win}$ using optimal $d_a$\n",
    "\n",
    "$$\n",
    "P_{a\\_win} = \n",
    "\\begin{cases}\n",
    "  1 &\\quad\\text{if } 2r - d_e \\le 0\\\\\n",
    "  \\frac{1}{\\pi}\\text{arcsin}\\left( \\left| 1- \\frac{d_e}{r} \\right| \\right) &\\quad\\text{otherwise}\\\\\n",
    "\\end{cases}\n",
    "$$"
   ]
  },
  {
   "cell_type": "markdown",
   "metadata": {},
   "source": [
    "### Optimal $d_e$\n",
    "\n",
    "$$\n",
    "\\text{Optimal }d_e = \\bar{d_e} = \\text{arg}\\min_{d_e} \\left( \\mathop{\\mathbb{E}}_r\\left[ P_{a\\_win} \\right] \\right)\n",
    "$$\n",
    "\n",
    "$$\n",
    "\\begin{align}\n",
    "    \\mathop{\\mathbb{E}}_r\\left[ P_{a\\_win} \\right] &= \\int_0^1 P(a\\_win | r) p(r) dr  \\\\\n",
    "    &= \\int_0^\\frac{d_e}{2} 1 p(r)dr + \\int_\\frac{d_e}{2}^1 P(a\\_win | r) p(r) dr \\\\\n",
    "    &= \\int_0^\\frac{d_e}{2} 2r dr + \\int_\\frac{d_e}{2}^1 \\frac{1}{\\pi}\\text{arcsin}\\left( \\left| 1- \\frac{d_e}{r} \\right| \\right) 2r dr \\\\\n",
    "    &= \\left( \\frac{d_e}{2} \\right)^2 + \\frac{2}{\\pi} \\int_\\frac{d_e}{2}^1 \\text{arcsin}\\left( \\left| 1- \\frac{d_e}{r} \\right| \\right) r dr \\\\\n",
    "\\end{align}\n",
    "$$"
   ]
  },
  {
   "cell_type": "markdown",
   "metadata": {},
   "source": [
    "Dividing the variable of integration by $d_e$:\n",
    "\n",
    "$$\n",
    "\\int_\\frac{d_e}{2}^1 \\text{arcsin}\\left( \\left| 1- \\frac{d_e}{r} \\right| \\right) r dr =\n",
    "\\int_\\frac{d_e}{2}^1 \\text{arcsin}\\left( \\left| 1- \\frac{d_e}{r} \\right| \\right) d_e^2 \\left( \\frac{r}{d_e} \\right) d \\left( \\frac{r}{d_e} \\right) =\n",
    "d_e^2 \\int_\\frac{1}{2}^\\frac{1}{d_e} \\text{arcsin}\\left( \\left| 1- \\frac{1}{x} \\right| \\right) x d x\n",
    "$$"
   ]
  },
  {
   "cell_type": "markdown",
   "metadata": {},
   "source": [
    "Integrating by parts we get\n",
    "\n",
    "$$\n",
    "\\begin{align}\n",
    "    \\int arcsin \\left( \\left| 1 - \\frac{1}{x} \\right| \\right) x dx &= arcsin \\left( \\left| 1 - \\frac{1}{x} \\right| \\right) \\frac{x^2}{2} - \\frac{(x+1)\\sqrt{2x-1}}{6}sign(x-1) \\\\\n",
    "    &= \\frac{x^2}{2} \\left( arcsin \\left( \\left| 1 - \\frac{1}{x} \\right| \\right) - \\frac{1}{3} \\left(1 + \\frac{1}{x}\\right) \\sqrt{\\frac{2}{x}-\\frac{1}{x^2}}sign(x-1) \\right)\n",
    "\\end{align}\n",
    "$$"
   ]
  },
  {
   "cell_type": "markdown",
   "metadata": {},
   "source": [
    "$x - 1$ changes sign when $\\frac{r}{d_e} - 1$ changes sign, so we'll split the integral where $r = d_e$\n",
    "\n",
    "\n",
    "$$\n",
    "\\begin{align}\n",
    "    \\int_\\frac{1}{2}^\\frac{1}{d_e} arcsin \\left( \\left| 1 - \\frac{1}{x} \\right| \\right) x dx &= \\int_\\frac{1}{2}^1 arcsin \\left( \\left| 1 - \\frac{1}{x} \\right| \\right) x dx + \\int_1^\\frac{1}{d_e} arcsin \\left( \\left| 1 - \\frac{1}{x} \\right| \\right) x dx\\\\\n",
    "    &= \\quad + \\frac{1}{2} \\left( arcsin(0) - \\frac{1}{3}\\left(1 + 1\\right) \\sqrt{2 - 1} \\: sign(-1) \\right)\\\\\n",
    "    &\\quad\\quad- \\frac{1}{8} \\left( arcsin(1) - \\frac{1}{3}\\left(1 + 2\\right) \\sqrt{0} \\: sign(-1)\\right)\\\\\n",
    "    &\\quad\\quad+ \\frac{1}{2d_e^2} \\left( arcsin \\left( 1 - d_e \\right) - \\frac{1}{3}(1 + d_e) \\sqrt{2d_e - d_e^2} \\: sign(+1) \\right)\\\\\n",
    "    &\\quad\\quad- \\frac{1}{2} \\left( arcsin(0) - \\frac{1}{3}\\left(1 + 1\\right) \\sqrt{2 - 1} \\: sign(+1) \\right) \\\\\n",
    "    &= \\quad + \\frac{1}{3}\\\\\n",
    "    &\\quad\\quad - \\frac{\\pi}{16} \\\\\n",
    "    &\\quad\\quad + \\frac{1}{2d_e^2} arcsin(1-d_e) - \\frac{1}{6d_e^2}\\left(1 + d_e\\right) \\sqrt{2d_e - d_e^2}  \\\\\n",
    "    &\\quad\\quad + \\frac{1}{3} \\\\\n",
    "    &=  \\frac{1}{2d_e^2} arcsin(1-d_e) - \\frac{1}{6d_e^2}\\left(1 + d_e\\right) \\sqrt{2d_e - d_e^2} + \\frac{2}{3} - \\frac{\\pi}{16} \\\\\n",
    "\\end{align}\n",
    "$$\n"
   ]
  },
  {
   "cell_type": "markdown",
   "metadata": {},
   "source": [
    "Plugging this back in the expression for the expected value of $P_{a\\_win}$, we get\n",
    "\n",
    "$$\n",
    "\\begin{align}\n",
    "    \\mathop{\\mathbb{E}}_r\\left[ P_{a\\_win} \\right] &= \\left( \\frac{d_e}{2} \\right)^2 + \\frac{2d_e^2}{\\pi} \\left( \\frac{1}{2d_e^2} arcsin(1-d_e) - \\frac{1}{6d_e^2}\\left(1 + d_e\\right) \\sqrt{2d_e - d_e^2} + \\frac{2}{3} - \\frac{\\pi}{16} \\right)\\\\\n",
    "    &= \\frac{d_e^2}{4} + \\frac{1}{\\pi} arcsin(1-d_e) - \\frac{1}{3\\pi}\\left(1 + d_e\\right) \\sqrt{2d_e - d_e^2} + \\frac{4d_e^2}{3\\pi} - \\frac{d_e^2}{8}\\\\\n",
    "    &= \\frac{d_e^2}{8} + \\frac{4d_e^2}{3\\pi} + \\frac{1}{\\pi} arcsin(1-d_e) - \\frac{1}{3\\pi}\\left(1 + d_e\\right) \\sqrt{2d_e - d_e^2}\\\\\n",
    "\\end{align}\n",
    "$$\n"
   ]
  },
  {
   "cell_type": "markdown",
   "metadata": {},
   "source": [
    "Now if we take the derivative\n",
    "\n",
    "$$\n",
    "\\begin{align}\n",
    "    \\frac{\\partial}{\\partial d_e}\\mathop{\\mathbb{E}}_r\\left[ P_{a\\_win} \\right] &= \\frac{\\partial}{\\partial d_e} \\left( \\frac{d_e^2}{8} + \\frac{4d_e^2}{3\\pi} + \\frac{1}{\\pi} arcsin(1-d_e) - \\frac{1}{3\\pi}\\left(1 + d_e\\right) \\sqrt{2d_e - d_e^2} \\right) \\\\\n",
    "    &= \\frac{d_e}{4} + \\frac{8d_e}{3\\pi} + \\frac{1}{\\pi}\\frac{1}{\\sqrt{1 - \\left(1 - d_e\\right)^2}} \\frac{\\partial}{\\partial d_e} (1-d_e)  - \\frac{\\partial}{\\partial d_e} \\left( \\frac{1}{3\\pi}\\left(1 + d_e\\right) \\sqrt{2d_e - d_e^2} \\right)\\\\\n",
    "    &= \\frac{d_e}{4} + \\frac{8d_e}{3\\pi} - \\frac{1}{\\pi} \\frac{1}{\\sqrt{2d_e - d_e^2}}  - \\frac{\\partial}{\\partial d_e} \\left( \\frac{1}{3\\pi}\\left(1 + d_e\\right) \\sqrt{2d_e - d_e^2} \\right)\\\\\n",
    "    &= \\frac{d_e}{4} + \\frac{8d_e}{3\\pi} - \\frac{1}{\\pi} \\frac{1}{\\sqrt{2d_e - d_e^2}} - \\frac{1}{3\\pi} \\frac{\\partial}{\\partial d_e} \\left( \\left(1 + d_e\\right) \\sqrt{2d_e - d_e^2} \\right)\\\\\n",
    "    &= \\frac{d_e}{4} + \\frac{8d_e}{3\\pi} - \\frac{1}{\\pi} \\frac{1}{\\sqrt{2d_e - d_e^2}} - \\frac{1}{3\\pi} \\left( \\left( \\frac{\\partial}{\\partial d_e} \\left(1 + d_e\\right) \\right) \\sqrt{2d_e - d_e^2} + \\left(1 + d_e\\right) \\frac{\\partial}{\\partial d_e} \\left( \\sqrt{2d_e - d_e^2} \\right) \\right)\\\\\n",
    "    &= \\frac{d_e}{4} + \\frac{8d_e}{3\\pi} - \\frac{1}{\\pi} \\frac{1}{\\sqrt{2d_e - d_e^2}} - \\frac{1}{3\\pi} \\left( \\sqrt{2d_e - d_e^2} + \\left(1 + d_e\\right) \\frac{1 - d_e}{\\sqrt{2d_e - d_e^2}}  \\right)\\\\\n",
    "    &= \\frac{d_e}{4} + \\frac{8d_e}{3\\pi} - \\frac{1}{\\pi} \\frac{1}{\\sqrt{2d_e - d_e^2}} - \\frac{1}{3\\pi\\sqrt{2d_e - d_e^2}} \\left( 2d_e - d_e^2 +  1 - d_e^2  \\right)\\\\\n",
    "    &= \\frac{d_e}{4} + \\frac{8d_e}{3\\pi} - \\frac{3}{3\\pi\\sqrt{2d_e - d_e^2}} - \\frac{\\left( 1 + 2d_e - 2d_e^2 \\right)}{3\\pi\\sqrt{2d_e - d_e^2}}\\\\\n",
    "    &= \\frac{d_e}{4} + \\frac{8d_e}{3\\pi} - \\frac{\\left( 4 + 2d_e - 2d_e^2 \\right)}{3\\pi\\sqrt{2d_e - d_e^2}}\\\\\n",
    "\\end{align}\n",
    "$$\n"
   ]
  },
  {
   "cell_type": "markdown",
   "metadata": {},
   "source": [
    "And then set the derivative to zero\n",
    "\n",
    "$$\n",
    "\\begin{align}\n",
    "    \\frac{\\partial}{\\partial d_e}\\mathop{\\mathbb{E}}_r\\left[ P_{a\\_win} \\right] &= 0 \\\\\n",
    "    \\frac{d_e}{4} + \\frac{8d_e}{3\\pi} - \\frac{\\left( 4 + 2d_e - 2d_e^2 \\right)}{3\\pi\\sqrt{2d_e - d_e^2}} &= 0\\\\\n",
    "    (3\\pi + 32)d_e\\sqrt{2d_e - d_e^2} - 8\\left( 2 + d_e - d_e^2 \\right) &= 0\\\\\n",
    "\\end{align}\n",
    "$$\n"
   ]
  },
  {
   "cell_type": "markdown",
   "metadata": {},
   "source": [
    "Finding the root numerically:"
   ]
  },
  {
   "cell_type": "code",
   "execution_count": 2,
   "metadata": {},
   "outputs": [
    {
     "name": "stdout",
     "output_type": "stream",
     "text": [
      "de = 0.50130699421275306976185759314421091248608224307348\n"
     ]
    }
   ],
   "source": [
    "mp.dps = 50\n",
    "\n",
    "def derivative_expected_p_a_win(de):\n",
    "    return (3*pi + 32)*de*sqrt(2*de - de**2) - 8*(2 + de - de**2)\n",
    "\n",
    "optimal_de = findroot(derivative_expected_p_a_win, 0.5)\n",
    "print(\"de =\", optimal_de)"
   ]
  },
  {
   "cell_type": "markdown",
   "metadata": {},
   "source": [
    "Now plugging $d_e$ on the formula for the expected probability that a wins which we computed earlier:\n",
    "\n",
    "$$\n",
    "        \\mathop{\\mathbb{E}}_r\\left[ P_{a\\_win} \\right] = \\frac{d_e^2}{8} + \\frac{4d_e^2}{3\\pi} + \\frac{1}{\\pi} arcsin(1 - d_e) - \\frac{1}{3\\pi}\\left(1 + d_e\\right) \\sqrt{2d_e - d_e^2}\\\\\n",
    "$$"
   ]
  },
  {
   "cell_type": "code",
   "execution_count": 3,
   "metadata": {},
   "outputs": [
    {
     "name": "stdout",
     "output_type": "stream",
     "text": [
      "answer = 0.1661864864740085199460374511368681039851252864504\n"
     ]
    }
   ],
   "source": [
    "pi = mpf(314159265358979323846264338327950288419716939937510)/10**50\n",
    "\n",
    "def arcsin(x):\n",
    "    result = x\n",
    "    current = x\n",
    "    for i in range(1, 1000):\n",
    "        current *= x**2\n",
    "        current *= (2*i - 1)/mpf(2*i)\n",
    "        result += current/(2*i + 1)\n",
    "    return result\n",
    "\n",
    "def expected_p_a_win(de):\n",
    "    return de**2/8 + 4*de**2/(3*pi) + arcsin(1-de)/pi - (1+de)*sqrt(2*de - de**2)/(3*pi)\n",
    "\n",
    "print(\"answer =\", expected_p_a_win(optimal_de))"
   ]
  },
  {
   "cell_type": "code",
   "execution_count": null,
   "metadata": {},
   "outputs": [],
   "source": [
    "answer = 0.1661864864740085199460374511368681039851252864504\n"
   ]
  },
  {
   "cell_type": "code",
   "execution_count": 36,
   "metadata": {},
   "outputs": [
    {
     "data": {
      "text/plain": [
       "0.1661864865"
      ]
     },
     "execution_count": 36,
     "metadata": {},
     "output_type": "execute_result"
    }
   ],
   "source": [
    "0.1661864865"
   ]
  }
 ],
 "metadata": {
  "kernelspec": {
   "display_name": "Python 3 (ipykernel)",
   "language": "python",
   "name": "python3"
  },
  "language_info": {
   "codemirror_mode": {
    "name": "ipython",
    "version": 3
   },
   "file_extension": ".py",
   "mimetype": "text/x-python",
   "name": "python",
   "nbconvert_exporter": "python",
   "pygments_lexer": "ipython3",
   "version": "3.8.7"
  }
 },
 "nbformat": 4,
 "nbformat_minor": 2
}
